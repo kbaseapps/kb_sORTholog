{
 "cells": [
  {
   "cell_type": "code",
   "execution_count": 1,
   "metadata": {
    "pycharm": {
     "name": "#%%\n"
    }
   },
   "outputs": [
    {
     "name": "stdout",
     "output_type": "stream",
     "text": [
      "python version 3.7.6\n"
     ]
    }
   ],
   "source": [
    "import platform\n",
    "print(\"python version \" + platform.python_version())\n",
    "import sys\n",
    "import path\n",
    "import os\n",
    "from os.path import exists\n",
    "from pathlib import Path\n",
    "import logging\n",
    "from configparser import ConfigParser\n",
    "config = ConfigParser()\n",
    "config.read(\"../local_config.cfg\")\n",
    "paths = config.get(\"script\", \"syspaths\").split(\";\")\n",
    "for path in paths:\n",
    "    sys.path.append(path)\n",
    "from kb_sORTholog.sorthologmodule import sORThologModule\n",
    "from installed_clients.WorkspaceClient import Workspace\n",
    "#You need to get a KBase dev token or pull a token from the narrative and put in ~/.kbase/token file\n",
    "token = None\n",
    "if Path(str(Path.home()) + '/.kbase/token').exists():\n",
    "    with open(str(Path.home()) + '/.kbase/token', 'r') as fh:\n",
    "        token = fh.read().strip()\n",
    "workspace_url = \"https://appdev.kbase.us/services/ws\"#For appdev\n",
    "#workspace_url = \"https://kbase.us/services/ws\"#For prod\n",
    "wsclient = Workspace(workspace_url, token=token)"
   ]
  },
  {
   "cell_type": "code",
   "execution_count": 3,
   "metadata": {
    "pycharm": {
     "name": "#%%\n"
    }
   },
   "outputs": [],
   "source": [
    "sortholog = sORThologModule(\"kb_sORTholog\",wsclient,None,\"\",\"../\",{})"
   ]
  },
  {
   "cell_type": "code",
   "execution_count": null,
   "metadata": {
    "pycharm": {
     "name": "#%%\n"
    }
   },
   "outputs": [],
   "source": []
  }
 ],
 "metadata": {
  "kernelspec": {
   "display_name": "Python 3",
   "language": "python",
   "name": "python3"
  },
  "language_info": {
   "codemirror_mode": {
    "name": "ipython",
    "version": 3
   },
   "file_extension": ".py",
   "mimetype": "text/x-python",
   "name": "python",
   "nbconvert_exporter": "python",
   "pygments_lexer": "ipython3",
   "version": "3.7.6"
  }
 },
 "nbformat": 4,
 "nbformat_minor": 4
}
